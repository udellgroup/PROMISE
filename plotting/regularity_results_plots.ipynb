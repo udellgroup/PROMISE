{
 "cells": [
  {
   "cell_type": "code",
   "execution_count": 43,
   "metadata": {},
   "outputs": [],
   "source": [
    "import numpy as np\n",
    "import matplotlib.pyplot as plt\n",
    "import os"
   ]
  },
  {
   "cell_type": "code",
   "execution_count": 44,
   "metadata": {},
   "outputs": [],
   "source": [
    "def get_gamma_traj_list(dir_name, dataset, opt, precond):\n",
    "    path = os.path.join(dir_name, dataset, opt, precond)\n",
    "    data =  np.load(os.path.join(path, 'gamma_traj_list.npz'))\n",
    "    traj_list = data['arr_0']\n",
    "    data.close()\n",
    "    return traj_list"
   ]
  },
  {
   "cell_type": "code",
   "execution_count": 45,
   "metadata": {},
   "outputs": [],
   "source": [
    "def get_gamma_glob_list(dir_name, dataset, opt, precond):\n",
    "    path = os.path.join(dir_name, dataset, opt, precond)\n",
    "    data =  np.load(os.path.join(path, 'gamma_glob_list.npz'))\n",
    "    glob_list = data['arr_0']\n",
    "    data.close()\n",
    "    return glob_list"
   ]
  },
  {
   "cell_type": "code",
   "execution_count": 46,
   "metadata": {},
   "outputs": [],
   "source": [
    "def get_gamma_u_l_list(dir_name, dataset, opt, precond):\n",
    "    path = os.path.join(dir_name, dataset, opt, precond)\n",
    "    data =  np.load(os.path.join(path, 'gamma_glob_u_list.npz'))\n",
    "    u_list = data['arr_0']\n",
    "    data.close()\n",
    "    data =  np.load(os.path.join(path, 'gamma_glob_l_list.npz'))\n",
    "    l_list = data['arr_0']\n",
    "    data.close()\n",
    "    return u_list, l_list"
   ]
  },
  {
   "cell_type": "code",
   "execution_count": 47,
   "metadata": {},
   "outputs": [],
   "source": [
    "# Number of training samples (hardcoded + accounting for 80/20 split)\n",
    "# ntr_dict = {'a9a': 32561, 'ijcnn1': 49990, 'rcv1': 20242, 'real-sim': 57847, 'w8a': 49749}"
   ]
  },
  {
   "cell_type": "code",
   "execution_count": 48,
   "metadata": {},
   "outputs": [],
   "source": [
    "# dir_name = '../regularity_results'\n",
    "# dataset = 'a9a'\n",
    "# dataset = 'ijcnn1'\n",
    "# dataset = 'rcv1'\n",
    "# dataset = 'real-sim'\n",
    "# dataset = 'w8a'\n",
    "# opt = 'sketchysaga'\n",
    "# precond = 'nystrom'\n",
    "bg = 256 # batch size for stochastic gradients"
   ]
  },
  {
   "cell_type": "code",
   "execution_count": 49,
   "metadata": {},
   "outputs": [],
   "source": [
    "# gamma_traj = get_gamma_traj_list(dir_name, dataset, opt, precond)\n",
    "# plt.plot(np.arange(gamma_traj.shape[0]) * bg/ntr_dict[dataset], gamma_traj)\n",
    "# plt.xlabel('Epochs')\n",
    "# plt.ylabel(r'$\\gamma$')\n",
    "# plt.title('$\\gamma$ along trajectory')"
   ]
  },
  {
   "cell_type": "code",
   "execution_count": 50,
   "metadata": {},
   "outputs": [],
   "source": [
    "# gamma_glob = get_gamma_glob_list(dir_name, dataset, opt, precond)\n",
    "# plt.plot(np.arange(gamma_glob.shape[0]) * bg/ntr_dict[dataset], gamma_glob)\n",
    "# plt.xlabel('Epochs')\n",
    "# plt.ylabel(r'$\\gamma$')\n",
    "# plt.title('$\\gamma$ w.r.t. optimum')"
   ]
  },
  {
   "cell_type": "code",
   "execution_count": 51,
   "metadata": {},
   "outputs": [],
   "source": [
    "# gamma_u_list, gamma_l_list = get_gamma_u_l_list(dir_name, dataset, opt, precond)\n",
    "# gamma_u_list = np.array(gamma_u_list)\n",
    "# gamma_l_list = np.array(gamma_l_list)\n",
    "\n",
    "# eps_list = np.maximum(gamma_u_list - 1, gamma_l_list ** (-1) - 1)\n",
    "\n",
    "# plt.figure()\n",
    "# plt.plot(gamma_u_list, label=r'$\\gamma_u$')\n",
    "# plt.plot(gamma_l_list, label=r'$\\gamma_\\ell$')\n",
    "# plt.xlabel('Epochs')\n",
    "# plt.title(r'$\\gamma_u$ and $\\gamma_\\ell$')\n",
    "# plt.legend()\n",
    "\n",
    "# plt.figure()\n",
    "# plt.plot(gamma_u_list / gamma_l_list)\n",
    "# plt.xlabel('Epochs')\n",
    "# plt.ylabel(r'$\\gamma_u / \\gamma_\\ell$')\n",
    "# plt.title('Local conditioning')\n",
    "\n",
    "# plt.figure()\n",
    "# plt.plot(eps_list)\n",
    "# plt.xlabel('Epochs')\n",
    "# plt.ylabel(r'$\\epsilon$')\n",
    "# plt.title('Local adiabaticity')\n",
    "\n",
    "# fig, ax1 = plt.subplots()\n",
    "# color = 'tab:orange'\n",
    "# ax1.set_xlabel('Epochs')\n",
    "# ax1.set_ylabel(r'$\\gamma_u / \\gamma_\\ell$', color=color)\n",
    "# ax1.plot(gamma_u_list / gamma_l_list, color=color)\n",
    "# ax1.tick_params(axis='y', labelcolor=color)\n",
    "\n",
    "# ax2 = ax1.twinx()  # instantiate a second axes that shares the same x-axis\n",
    "# color = 'tab:blue'\n",
    "# ax2.set_ylabel(r'$\\gamma$', color=color)  # we already handled the x-label with ax1\n",
    "# ax2.plot(np.arange(gamma_glob.shape[0]) * bg/ntr_dict[dataset], gamma_glob, color=color)\n",
    "# ax2.tick_params(axis='y', labelcolor=color)\n",
    "\n",
    "# fig.tight_layout()  # otherwise the right y-label is slightly clipped\n",
    "# plt.title(r'Local conditioning and global $\\gamma$')\n",
    "\n",
    "# fig, ax1 = plt.subplots()\n",
    "# color = 'tab:orange'\n",
    "# ax1.set_xlabel('Epochs')\n",
    "# ax1.set_ylabel(r'$\\epsilon$', color=color)\n",
    "# ax1.plot(eps_list, color=color)\n",
    "# ax1.tick_params(axis='y', labelcolor=color)\n",
    "\n",
    "# ax2 = ax1.twinx()  # instantiate a second axes that shares the same x-axis\n",
    "# color = 'tab:blue'\n",
    "# ax2.set_ylabel(r'$\\gamma$', color=color)  # we already handled the x-label with ax1\n",
    "# ax2.plot(np.arange(gamma_glob.shape[0]) * bg/ntr_dict[dataset], gamma_glob, color=color)\n",
    "# ax2.tick_params(axis='y', labelcolor=color)\n",
    "\n",
    "# fig.tight_layout()  # otherwise the right y-label is slightly clipped\n",
    "# plt.title(r'Local adiabaticity and global $\\gamma$')"
   ]
  },
  {
   "cell_type": "code",
   "execution_count": 52,
   "metadata": {},
   "outputs": [],
   "source": [
    "def save(directory, fig_name, fig):\n",
    "    plt.figure(fig)\n",
    "    if not os.path.exists(directory):\n",
    "        os.makedirs(directory)\n",
    "\n",
    "    plt.savefig(os.path.join(directory, fig_name), bbox_inches='tight')"
   ]
  },
  {
   "cell_type": "code",
   "execution_count": 53,
   "metadata": {},
   "outputs": [],
   "source": [
    "def plot_regularity_ratios(results_dir, datasets, opt, precond, save_dir):\n",
    "    fig = plt.figure()\n",
    "    for dataset in datasets:\n",
    "        gamma_u_list, gamma_l_list = get_gamma_u_l_list(results_dir, dataset, opt, precond)\n",
    "        gamma_u_arr = np.array(gamma_u_list)\n",
    "        gamma_l_arr = np.array(gamma_l_list)\n",
    "        plt.semilogy(gamma_u_arr / gamma_l_arr, label=dataset)\n",
    "\n",
    "    plt.xlabel(\"Epochs\", fontsize = 14)\n",
    "    plt.ylabel(r\"$\\mathfrak{q}_j$\", fontsize = 14)\n",
    "    plt.legend(loc = 'upper center', bbox_to_anchor=(0.5, -0.15), ncol=3, fontsize = 14)\n",
    "    plt.gca().tick_params(axis='both', which='major', labelsize=14)\n",
    "\n",
    "    datasets_str = \"_\".join(datasets)\n",
    "    save(save_dir, f\"regularity_ratios_{datasets_str}.pdf\", fig)"
   ]
  },
  {
   "cell_type": "code",
   "execution_count": 54,
   "metadata": {},
   "outputs": [],
   "source": [
    "# Render plots in LaTeX\n",
    "plt.rc('text', usetex = True)\n",
    "plt.rc('font', family = 'serif')\n",
    "plt.rcParams['text.latex.preamble'] = r\"\\usepackage{amssymb}\"  # for mathfrak"
   ]
  },
  {
   "cell_type": "code",
   "execution_count": 55,
   "metadata": {},
   "outputs": [],
   "source": [
    "results_dir = '../regularity_results'\n",
    "datasets = ['a9a', 'gisette', 'ijcnn1', 'mushrooms', 'phishing', 'rcv1', 'real-sim', 'w8a']\n",
    "opt = 'sketchysaga'\n",
    "precond = 'nystrom'\n",
    "save_dir = './regularity'"
   ]
  },
  {
   "cell_type": "code",
   "execution_count": 56,
   "metadata": {},
   "outputs": [
    {
     "data": {
      "image/png": "[encoded data removed]",
      "text/plain": [
       "<Figure size 640x480 with 1 Axes>"
      ]
     },
     "metadata": {},
     "output_type": "display_data"
    }
   ],
   "source": [
    "plot_regularity_ratios(results_dir, datasets, opt, precond, save_dir)"
   ]
  }
 ],
 "metadata": {
  "kernelspec": {
   "display_name": "env",
   "language": "python",
   "name": "python3"
  },
  "language_info": {
   "codemirror_mode": {
    "name": "ipython",
    "version": 3
   },
   "file_extension": ".py",
   "mimetype": "text/x-python",
   "name": "python",
   "nbconvert_exporter": "python",
   "pygments_lexer": "ipython3",
   "version": "3.8.13"
  },
  "orig_nbformat": 4
 },
 "nbformat": 4,
 "nbformat_minor": 2
}
